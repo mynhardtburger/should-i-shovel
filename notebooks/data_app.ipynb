{
 "cells": [
  {
   "attachments": {},
   "cell_type": "markdown",
   "metadata": {},
   "source": [
    "https://medium.com/swlh/automated-weather-model-processing-with-foss4g-lessons-learned-8aaaeda1e3bc"
   ]
  },
  {
   "cell_type": "code",
   "execution_count": 1,
   "metadata": {},
   "outputs": [],
   "source": [
    "import io\n",
    "from datetime import datetime, timedelta, timezone\n",
    "\n",
    "import numpy as np\n",
    "import psycopg\n",
    "from psycopg import sql\n",
    "import xarray as xr\n",
    "from numpy import typing as npt\n",
    "import pandas as pd\n",
    "from typing import Any"
   ]
  },
  {
   "cell_type": "code",
   "execution_count": 2,
   "metadata": {},
   "outputs": [
    {
     "name": "stdout",
     "output_type": "stream",
     "text": [
      "utf-8\n",
      "[(datetime.datetime(2022, 12, 21, 19, 25, 13, 691312, tzinfo=datetime.timezone.utc),)]\n"
     ]
    }
   ],
   "source": [
    "pg_connection_dict = {\n",
    "    'dbname': \"mydb\",\n",
    "    'user': \"myn\",\n",
    "    'password': r\"IE>AUs]6)fr>jQ8m\",\n",
    "    'port': \"5432\",\n",
    "    'host': \"terraform-20221218184631507400000002.c2x7llrlmsr3.us-east-2.rds.amazonaws.com\"\n",
    "}\n",
    "\n",
    "with psycopg.connect(**pg_connection_dict, autocommit=True) as conn:\n",
    "    with conn.cursor() as curr:\n",
    "        print(conn.info.encoding)\n",
    "        print(curr.execute(r\"SELECT now()\").fetchall())"
   ]
  },
  {
   "cell_type": "code",
   "execution_count": 12,
   "metadata": {},
   "outputs": [],
   "source": [
    "with psycopg.connect(**pg_connection_dict, autocommit=True) as conn:\n",
    "    with conn.cursor() as curr:\n",
    "        curr.execute(open(\"../database.sql\", \"rt\").read())"
   ]
  },
  {
   "cell_type": "code",
   "execution_count": 65,
   "metadata": {},
   "outputs": [],
   "source": [
    "ds = xr.open_dataset(\n",
    "    \"../data/CMC_reg_SNOD_SFC_0_ps10km_2022121518_P001.grib2\",\n",
    "    engine=\"cfgrib\",\n",
    "    indexpath=\"\",\n",
    ")"
   ]
  },
  {
   "cell_type": "code",
   "execution_count": 66,
   "metadata": {},
   "outputs": [],
   "source": [
    "def to_utcdatetime(date: np.datetime64):\n",
    "    \"\"\"\n",
    "    Converts a numpy datetime64[ns] object to a python datetime object\n",
    "    Input:\n",
    "      date - a np.datetime64[ns] object\n",
    "    Output:\n",
    "      DATE - a python datetime object\n",
    "    \"\"\"\n",
    "    timestamp = int(\n",
    "        (date - np.datetime64(\"1970-01-01T00:00:00\")) / np.timedelta64(1, \"s\")\n",
    "    )\n",
    "    return datetime.fromtimestamp(timestamp, timezone.utc)\n",
    "\n",
    "\n",
    "def to_timedelta(td: np.timedelta64):\n",
    "    \"\"\"\n",
    "    Converts a numpy timedelta64[ns] object to a python timedelta object\n",
    "    Input:\n",
    "      date - a np.datetime64[ns] object\n",
    "    Output:\n",
    "      DATE - a python datetime object\n",
    "    \"\"\"\n",
    "    return timedelta(td.astype(\"timedelta64[h]\").astype(\"float\") / 24)"
   ]
  },
  {
   "cell_type": "code",
   "execution_count": 67,
   "metadata": {},
   "outputs": [],
   "source": [
    "ds_var = list(ds.keys())[0]\n",
    "\n",
    "variable = {\n",
    "        \"short_name\": ds[ds_var].attrs[\"GRIB_shortName\"],\n",
    "        \"long_name\": ds[ds_var].attrs[\"GRIB_name\"],\n",
    "        \"unit\": ds[ds_var].attrs[\"units\"],\n",
    "    }"
   ]
  },
  {
   "cell_type": "code",
   "execution_count": 68,
   "metadata": {},
   "outputs": [],
   "source": [
    "with psycopg.connect(**pg_connection_dict, autocommit=True) as conn:\n",
    "    with conn.cursor() as curr:\n",
    "        curr.execute(\"\"\"\n",
    "        INSERT INTO public.variables(short_name, long_name, unit) VALUES (\n",
    "            %(short_name)s,\n",
    "            %(long_name)s,\n",
    "            %(unit)s\n",
    "        );\"\"\", variable)"
   ]
  },
  {
   "cell_type": "code",
   "execution_count": 69,
   "metadata": {},
   "outputs": [],
   "source": [
    "forecast = {\n",
    "    \"model\": \"rdps\",\n",
    "    \"reference_time\": to_utcdatetime(ds[\"time\"].values),\n",
    "    \"step\": to_timedelta(ds[\"step\"].values),\n",
    "}\n",
    "\n",
    "with psycopg.connect(**pg_connection_dict, autocommit=True) as conn:\n",
    "    with conn.cursor() as curr:\n",
    "        curr.execute(\"\"\"\n",
    "        INSERT INTO public.forecasts(model, forecast_reference_time, forecast_step) VALUES (\n",
    "            %(model)s,\n",
    "            %(reference_time)s,\n",
    "            %(step)s\n",
    "        );\"\"\", forecast)"
   ]
  },
  {
   "cell_type": "code",
   "execution_count": 70,
   "metadata": {},
   "outputs": [],
   "source": [
    "columns = [\"forecast_id\", \"variable_id\", \"longitude\", \"latitude\", \"value\"]\n",
    "\n",
    "write_query = sql.SQL(\"INSERT INTO {table} ({columns}) VALUES ({placeholders})\").format(\n",
    "    table=sql.Identifier(\"public\", \"predictions\"),\n",
    "    columns=sql.SQL(', ').join(map(sql.Identifier, columns)),\n",
    "    placeholders=sql.SQL(', ').join(sql.Placeholder() * len(columns))\n",
    ")"
   ]
  },
  {
   "cell_type": "code",
   "execution_count": 71,
   "metadata": {},
   "outputs": [],
   "source": [
    "def write_data():\n",
    "    with psycopg.connect(**pg_connection_dict, autocommit=True) as conn:\n",
    "        with conn.cursor() as curr:\n",
    "            with conn.transaction():\n",
    "                forecast_id = curr.execute(\n",
    "                    \"\"\"\n",
    "                    SELECT forecast_id\n",
    "                    FROM public.forecasts\n",
    "                    WHERE \n",
    "                        model = %(model)s AND\n",
    "                        forecast_reference_time = %(reference_time)s AND\n",
    "                        forecast_step = %(step)s\n",
    "                \"\"\",\n",
    "                    forecast,\n",
    "                ).fetchone()\n",
    "            if not forecast_id:\n",
    "                raise ValueError(\"No forecast_id obtained\")\n",
    "\n",
    "            with conn.transaction():\n",
    "                variable_id = curr.execute(\n",
    "                    \"\"\"\n",
    "                    SELECT variable_id\n",
    "                    FROM public.variables\n",
    "                    WHERE short_name = %s\n",
    "                \"\"\",\n",
    "                    [variable[\"short_name\"]],\n",
    "                ).fetchone()\n",
    "            \n",
    "            if not variable_id:\n",
    "                raise ValueError(\"No variable_id obtained\")\n",
    "\n",
    "            # Prepare data to upload\n",
    "            df = ds.to_dataframe().fillna({ds_var: 0})\n",
    "            df = df[[\"longitude\", \"latitude\", ds_var]].reset_index(drop=True)\n",
    "            df = df.loc[:, [\"longitude\", \"latitude\", ds_var]]\n",
    "            df = df.rename(columns={ds_var: \"value\"})\n",
    "            df[\"forecast_id\"] = forecast_id[0]\n",
    "            df[\"variable_id\"] = variable_id[0]\n",
    "            df = df.loc[\n",
    "                :, [\"forecast_id\", \"variable_id\", \"longitude\", \"latitude\", \"value\"]\n",
    "            ]\n",
    "\n",
    "            curr.executemany(write_query, list(df.itertuples(index=False)))"
   ]
  },
  {
   "cell_type": "code",
   "execution_count": 72,
   "metadata": {},
   "outputs": [],
   "source": [
    "write_data()"
   ]
  },
  {
   "cell_type": "code",
   "execution_count": 13,
   "metadata": {},
   "outputs": [],
   "source": [
    "# https://weather.gc.ca/grib/grib2_HRDPS_HR_e.html\n",
    "# https://weather.gc.ca/grib/HRDPS_HR/lamnatpoints.gz\n",
    "\n",
    "def write_coordinates():\n",
    "    coords_file = \"../data/coordinates/hrdps_continential.txt\"\n",
    "    df = pd.read_csv(coords_file, sep=\" \", names=[\"i\", \"j\", \"latitude\", \"longitude\"], skiprows=1)\n",
    "\n",
    "    columns = [\"latitude\", \"longitude\"]\n",
    "    write_query = sql.SQL(\"COPY {table} ({columns}) FROM STDIN\").format(\n",
    "        table=sql.Identifier(\"public\", \"coordinates\"),\n",
    "        columns=sql.SQL(', ').join(map(sql.Identifier, columns)),\n",
    "    )\n",
    "\n",
    "    with psycopg.connect(**pg_connection_dict, autocommit=True) as conn:\n",
    "            with conn.cursor() as curr:\n",
    "                with curr.copy(write_query) as copy:\n",
    "                    for record in df[[\"latitude\", \"longitude\"]].values:\n",
    "                        copy.write_row(record)\n",
    "write_coordinates()"
   ]
  },
  {
   "cell_type": "code",
   "execution_count": 8,
   "metadata": {},
   "outputs": [
    {
     "data": {
      "text/html": [
       "<div>\n",
       "<style scoped>\n",
       "    .dataframe tbody tr th:only-of-type {\n",
       "        vertical-align: middle;\n",
       "    }\n",
       "\n",
       "    .dataframe tbody tr th {\n",
       "        vertical-align: top;\n",
       "    }\n",
       "\n",
       "    .dataframe thead th {\n",
       "        text-align: right;\n",
       "    }\n",
       "</style>\n",
       "<table border=\"1\" class=\"dataframe\">\n",
       "  <thead>\n",
       "    <tr style=\"text-align: right;\">\n",
       "      <th></th>\n",
       "      <th>i</th>\n",
       "      <th>j</th>\n",
       "      <th>latitude</th>\n",
       "      <th>longitude</th>\n",
       "    </tr>\n",
       "  </thead>\n",
       "  <tbody>\n",
       "    <tr>\n",
       "      <th>0</th>\n",
       "      <td>1</td>\n",
       "      <td>1</td>\n",
       "      <td>35.603376</td>\n",
       "      <td>-128.082536</td>\n",
       "    </tr>\n",
       "    <tr>\n",
       "      <th>1</th>\n",
       "      <td>1</td>\n",
       "      <td>2</td>\n",
       "      <td>35.609918</td>\n",
       "      <td>-128.060513</td>\n",
       "    </tr>\n",
       "    <tr>\n",
       "      <th>2</th>\n",
       "      <td>1</td>\n",
       "      <td>3</td>\n",
       "      <td>35.616454</td>\n",
       "      <td>-128.038485</td>\n",
       "    </tr>\n",
       "    <tr>\n",
       "      <th>3</th>\n",
       "      <td>1</td>\n",
       "      <td>4</td>\n",
       "      <td>35.622983</td>\n",
       "      <td>-128.016450</td>\n",
       "    </tr>\n",
       "    <tr>\n",
       "      <th>4</th>\n",
       "      <td>1</td>\n",
       "      <td>5</td>\n",
       "      <td>35.629506</td>\n",
       "      <td>-127.994409</td>\n",
       "    </tr>\n",
       "  </tbody>\n",
       "</table>\n",
       "</div>"
      ],
      "text/plain": [
       "   i  j   latitude   longitude\n",
       "0  1  1  35.603376 -128.082536\n",
       "1  1  2  35.609918 -128.060513\n",
       "2  1  3  35.616454 -128.038485\n",
       "3  1  4  35.622983 -128.016450\n",
       "4  1  5  35.629506 -127.994409"
      ]
     },
     "execution_count": 8,
     "metadata": {},
     "output_type": "execute_result"
    }
   ],
   "source": [
    "coords_file = \"../data/coordinates/hrdps_continential.txt\"\n",
    "df = pd.read_csv(coords_file, sep=\" \", names=[\"i\", \"j\", \"latitude\", \"longitude\"], skiprows=1)\n",
    "df.head()"
   ]
  },
  {
   "cell_type": "code",
   "execution_count": 9,
   "metadata": {},
   "outputs": [
    {
     "name": "stdout",
     "output_type": "stream",
     "text": [
      "<class 'pandas.core.frame.DataFrame'>\n",
      "RangeIndex: 3750656 entries, 0 to 3750655\n",
      "Data columns (total 4 columns):\n",
      " #   Column     Dtype  \n",
      "---  ------     -----  \n",
      " 0   i          int64  \n",
      " 1   j          int64  \n",
      " 2   latitude   float64\n",
      " 3   longitude  float64\n",
      "dtypes: float64(2), int64(2)\n",
      "memory usage: 114.5 MB\n"
     ]
    }
   ],
   "source": [
    "df.info()"
   ]
  },
  {
   "cell_type": "code",
   "execution_count": 21,
   "metadata": {},
   "outputs": [],
   "source": [
    "def execute_sql_as_dataframe(sql_query: sql.Composed) -> pd.DataFrame:\n",
    "    with psycopg.connect(**pg_connection_dict, autocommit=True) as conn:\n",
    "            with conn.cursor() as curr:\n",
    "                res = curr.execute(sql_query).fetchall()\n",
    "                if curr.description:\n",
    "                    columns = [col.name for col in curr.description]\n",
    "                    return pd.DataFrame(res, columns=columns)\n",
    "                return pd.DataFrame()"
   ]
  },
  {
   "cell_type": "code",
   "execution_count": 22,
   "metadata": {},
   "outputs": [],
   "source": [
    "query = sql.SQL(\"SELECT {fields} FROM {table}\").format(\n",
    "    fields=sql.SQL(\", \").join(map(sql.Identifier, [\"coord_id\", \"latitude\", \"longitude\"])),\n",
    "    table=sql.Identifier(\"public\",\"coordinates\")\n",
    ")\n",
    "\n",
    "res = execute_sql_as_dataframe(query)"
   ]
  },
  {
   "cell_type": "code",
   "execution_count": 26,
   "metadata": {},
   "outputs": [
    {
     "name": "stdout",
     "output_type": "stream",
     "text": [
      "<class 'pandas.core.frame.DataFrame'>\n",
      "RangeIndex: 3750655 entries, 0 to 3750654\n",
      "Data columns (total 3 columns):\n",
      " #   Column     Dtype  \n",
      "---  ------     -----  \n",
      " 0   coord_id   int64  \n",
      " 1   latitude   float64\n",
      " 2   longitude  float64\n",
      "dtypes: float64(2), int64(1)\n",
      "memory usage: 85.8 MB\n"
     ]
    }
   ],
   "source": [
    "res.info()"
   ]
  }
 ],
 "metadata": {
  "kernelspec": {
   "display_name": ".venv",
   "language": "python",
   "name": "python3"
  },
  "language_info": {
   "codemirror_mode": {
    "name": "ipython",
    "version": 3
   },
   "file_extension": ".py",
   "mimetype": "text/x-python",
   "name": "python",
   "nbconvert_exporter": "python",
   "pygments_lexer": "ipython3",
   "version": "3.10.6"
  },
  "orig_nbformat": 4,
  "vscode": {
   "interpreter": {
    "hash": "f40483e87a18cc8f8e88bd5a8d04335d97209f4dfc5c79189588e91c12893167"
   }
  }
 },
 "nbformat": 4,
 "nbformat_minor": 2
}
