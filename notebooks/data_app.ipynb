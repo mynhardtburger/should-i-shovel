{
 "cells": [
  {
   "attachments": {},
   "cell_type": "markdown",
   "metadata": {},
   "source": [
    "https://medium.com/swlh/automated-weather-model-processing-with-foss4g-lessons-learned-8aaaeda1e3bc"
   ]
  },
  {
   "cell_type": "code",
   "execution_count": 1,
   "metadata": {},
   "outputs": [],
   "source": [
    "import io\n",
    "from datetime import datetime, timedelta, timezone\n",
    "\n",
    "import numpy as np\n",
    "import psycopg\n",
    "from psycopg import sql\n",
    "import xarray as xr\n",
    "from numpy import typing as npt\n",
    "import pandas as pd\n",
    "from typing import Any"
   ]
  },
  {
   "cell_type": "code",
   "execution_count": 2,
   "metadata": {},
   "outputs": [
    {
     "name": "stdout",
     "output_type": "stream",
     "text": [
      "utf-8\n",
      "[(datetime.datetime(2022, 12, 21, 1, 34, 45, 493368, tzinfo=datetime.timezone.utc),)]\n"
     ]
    }
   ],
   "source": [
    "pg_connection_dict = {\n",
    "    'dbname': \"mydb\",\n",
    "    'user': \"myn\",\n",
    "    'password': r\"IE>AUs]6)fr>jQ8m\",\n",
    "    'port': \"5432\",\n",
    "    'host': \"terraform-20221218184631507400000002.c2x7llrlmsr3.us-east-2.rds.amazonaws.com\"\n",
    "}\n",
    "\n",
    "with psycopg.connect(**pg_connection_dict, autocommit=True) as conn:\n",
    "    with conn.cursor() as curr:\n",
    "        print(conn.info.encoding)\n",
    "        print(curr.execute(r\"SELECT now()\").fetchall())"
   ]
  },
  {
   "cell_type": "code",
   "execution_count": 64,
   "metadata": {},
   "outputs": [],
   "source": [
    "with psycopg.connect(**pg_connection_dict, autocommit=True) as conn:\n",
    "    with conn.cursor() as curr:\n",
    "        curr.execute(open(\"../database.sql\", \"rt\").read())"
   ]
  },
  {
   "cell_type": "code",
   "execution_count": 65,
   "metadata": {},
   "outputs": [],
   "source": [
    "ds = xr.open_dataset(\n",
    "    \"../data/CMC_reg_SNOD_SFC_0_ps10km_2022121518_P001.grib2\",\n",
    "    engine=\"cfgrib\",\n",
    "    indexpath=\"\",\n",
    ")"
   ]
  },
  {
   "cell_type": "code",
   "execution_count": 66,
   "metadata": {},
   "outputs": [],
   "source": [
    "def to_utcdatetime(date: np.datetime64):\n",
    "    \"\"\"\n",
    "    Converts a numpy datetime64[ns] object to a python datetime object\n",
    "    Input:\n",
    "      date - a np.datetime64[ns] object\n",
    "    Output:\n",
    "      DATE - a python datetime object\n",
    "    \"\"\"\n",
    "    timestamp = int(\n",
    "        (date - np.datetime64(\"1970-01-01T00:00:00\")) / np.timedelta64(1, \"s\")\n",
    "    )\n",
    "    return datetime.fromtimestamp(timestamp, timezone.utc)\n",
    "\n",
    "\n",
    "def to_timedelta(td: np.timedelta64):\n",
    "    \"\"\"\n",
    "    Converts a numpy timedelta64[ns] object to a python timedelta object\n",
    "    Input:\n",
    "      date - a np.datetime64[ns] object\n",
    "    Output:\n",
    "      DATE - a python datetime object\n",
    "    \"\"\"\n",
    "    return timedelta(td.astype(\"timedelta64[h]\").astype(\"float\") / 24)"
   ]
  },
  {
   "cell_type": "code",
   "execution_count": 67,
   "metadata": {},
   "outputs": [],
   "source": [
    "ds_var = list(ds.keys())[0]\n",
    "\n",
    "variable = {\n",
    "        \"short_name\": ds[ds_var].attrs[\"GRIB_shortName\"],\n",
    "        \"long_name\": ds[ds_var].attrs[\"GRIB_name\"],\n",
    "        \"unit\": ds[ds_var].attrs[\"units\"],\n",
    "    }"
   ]
  },
  {
   "cell_type": "code",
   "execution_count": 68,
   "metadata": {},
   "outputs": [],
   "source": [
    "with psycopg.connect(**pg_connection_dict, autocommit=True) as conn:\n",
    "    with conn.cursor() as curr:\n",
    "        curr.execute(\"\"\"\n",
    "        INSERT INTO public.variables(short_name, long_name, unit) VALUES (\n",
    "            %(short_name)s,\n",
    "            %(long_name)s,\n",
    "            %(unit)s\n",
    "        );\"\"\", variable)"
   ]
  },
  {
   "cell_type": "code",
   "execution_count": 69,
   "metadata": {},
   "outputs": [],
   "source": [
    "forecast = {\n",
    "    \"model\": \"rdps\",\n",
    "    \"reference_time\": to_utcdatetime(ds[\"time\"].values),\n",
    "    \"step\": to_timedelta(ds[\"step\"].values),\n",
    "}\n",
    "\n",
    "with psycopg.connect(**pg_connection_dict, autocommit=True) as conn:\n",
    "    with conn.cursor() as curr:\n",
    "        curr.execute(\"\"\"\n",
    "        INSERT INTO public.forecasts(model, forecast_reference_time, forecast_step) VALUES (\n",
    "            %(model)s,\n",
    "            %(reference_time)s,\n",
    "            %(step)s\n",
    "        );\"\"\", forecast)"
   ]
  },
  {
   "cell_type": "code",
   "execution_count": 70,
   "metadata": {},
   "outputs": [],
   "source": [
    "columns = [\"forecast_id\", \"variable_id\", \"longitude\", \"latitude\", \"value\"]\n",
    "\n",
    "write_query = sql.SQL(\"INSERT INTO {table} ({columns}) VALUES ({placeholders})\").format(\n",
    "    table=sql.Identifier(\"public\", \"predictions\"),\n",
    "    columns=sql.SQL(', ').join(map(sql.Identifier, columns)),\n",
    "    placeholders=sql.SQL(', ').join(sql.Placeholder() * len(columns))\n",
    ")"
   ]
  },
  {
   "cell_type": "code",
   "execution_count": 71,
   "metadata": {},
   "outputs": [],
   "source": [
    "def write_data():\n",
    "    with psycopg.connect(**pg_connection_dict, autocommit=True) as conn:\n",
    "        with conn.cursor() as curr:\n",
    "            with conn.transaction():\n",
    "                forecast_id = curr.execute(\n",
    "                    \"\"\"\n",
    "                    SELECT forecast_id\n",
    "                    FROM public.forecasts\n",
    "                    WHERE \n",
    "                        model = %(model)s AND\n",
    "                        forecast_reference_time = %(reference_time)s AND\n",
    "                        forecast_step = %(step)s\n",
    "                \"\"\",\n",
    "                    forecast,\n",
    "                ).fetchone()\n",
    "            if not forecast_id:\n",
    "                raise ValueError(\"No forecast_id obtained\")\n",
    "\n",
    "            with conn.transaction():\n",
    "                variable_id = curr.execute(\n",
    "                    \"\"\"\n",
    "                    SELECT variable_id\n",
    "                    FROM public.variables\n",
    "                    WHERE short_name = %s\n",
    "                \"\"\",\n",
    "                    [variable[\"short_name\"]],\n",
    "                ).fetchone()\n",
    "            \n",
    "            if not variable_id:\n",
    "                raise ValueError(\"No variable_id obtained\")\n",
    "\n",
    "            # Prepare data to upload\n",
    "            df = ds.to_dataframe().fillna({ds_var: 0})\n",
    "            df = df[[\"longitude\", \"latitude\", ds_var]].reset_index(drop=True)\n",
    "            df = df.loc[:, [\"longitude\", \"latitude\", ds_var]]\n",
    "            df = df.rename(columns={ds_var: \"value\"})\n",
    "            df[\"forecast_id\"] = forecast_id[0]\n",
    "            df[\"variable_id\"] = variable_id[0]\n",
    "            df = df.loc[\n",
    "                :, [\"forecast_id\", \"variable_id\", \"longitude\", \"latitude\", \"value\"]\n",
    "            ]\n",
    "\n",
    "            curr.executemany(write_query, list(df.itertuples(index=False)))"
   ]
  },
  {
   "cell_type": "code",
   "execution_count": 72,
   "metadata": {},
   "outputs": [],
   "source": [
    "write_data()"
   ]
  },
  {
   "cell_type": "code",
   "execution_count": 25,
   "metadata": {},
   "outputs": [
    {
     "ename": "UniqueViolation",
     "evalue": "duplicate key value violates unique constraint \"lonlat\"\nDETAIL:  Key (latitude, longitude)=(35.609917, -128.06052) already exists.\nCONTEXT:  COPY coordinates, line 1",
     "output_type": "error",
     "traceback": [
      "\u001b[0;31m---------------------------------------------------------------------------\u001b[0m",
      "\u001b[0;31mUniqueViolation\u001b[0m                           Traceback (most recent call last)",
      "Cell \u001b[0;32mIn[25], line 19\u001b[0m\n\u001b[1;32m     17\u001b[0m                     \u001b[39mfor\u001b[39;00m record \u001b[39min\u001b[39;00m df[[\u001b[39m\"\u001b[39m\u001b[39mlatitude\u001b[39m\u001b[39m\"\u001b[39m, \u001b[39m\"\u001b[39m\u001b[39mlongitude\u001b[39m\u001b[39m\"\u001b[39m]]\u001b[39m.\u001b[39mvalues:\n\u001b[1;32m     18\u001b[0m                         copy\u001b[39m.\u001b[39mwrite_row(record)\n\u001b[0;32m---> 19\u001b[0m write_coordinates()\n",
      "Cell \u001b[0;32mIn[25], line 16\u001b[0m, in \u001b[0;36mwrite_coordinates\u001b[0;34m()\u001b[0m\n\u001b[1;32m     14\u001b[0m \u001b[39mwith\u001b[39;00m psycopg\u001b[39m.\u001b[39mconnect(\u001b[39m*\u001b[39m\u001b[39m*\u001b[39mpg_connection_dict, autocommit\u001b[39m=\u001b[39m\u001b[39mTrue\u001b[39;00m) \u001b[39mas\u001b[39;00m conn:\n\u001b[1;32m     15\u001b[0m         \u001b[39mwith\u001b[39;00m conn\u001b[39m.\u001b[39mcursor() \u001b[39mas\u001b[39;00m curr:\n\u001b[0;32m---> 16\u001b[0m             \u001b[39mwith\u001b[39;00m curr\u001b[39m.\u001b[39mcopy(write_query) \u001b[39mas\u001b[39;00m copy:\n\u001b[1;32m     17\u001b[0m                 \u001b[39mfor\u001b[39;00m record \u001b[39min\u001b[39;00m df[[\u001b[39m\"\u001b[39m\u001b[39mlatitude\u001b[39m\u001b[39m\"\u001b[39m, \u001b[39m\"\u001b[39m\u001b[39mlongitude\u001b[39m\u001b[39m\"\u001b[39m]]\u001b[39m.\u001b[39mvalues:\n\u001b[1;32m     18\u001b[0m                     copy\u001b[39m.\u001b[39mwrite_row(record)\n",
      "File \u001b[0;32m/usr/lib/python3.10/contextlib.py:142\u001b[0m, in \u001b[0;36m_GeneratorContextManager.__exit__\u001b[0;34m(self, typ, value, traceback)\u001b[0m\n\u001b[1;32m    140\u001b[0m \u001b[39mif\u001b[39;00m typ \u001b[39mis\u001b[39;00m \u001b[39mNone\u001b[39;00m:\n\u001b[1;32m    141\u001b[0m     \u001b[39mtry\u001b[39;00m:\n\u001b[0;32m--> 142\u001b[0m         \u001b[39mnext\u001b[39;49m(\u001b[39mself\u001b[39;49m\u001b[39m.\u001b[39;49mgen)\n\u001b[1;32m    143\u001b[0m     \u001b[39mexcept\u001b[39;00m \u001b[39mStopIteration\u001b[39;00m:\n\u001b[1;32m    144\u001b[0m         \u001b[39mreturn\u001b[39;00m \u001b[39mFalse\u001b[39;00m\n",
      "File \u001b[0;32m/mnt/c/Users/mynha/Projects/shouldishovel/.venv/lib/python3.10/site-packages/psycopg/cursor.py:908\u001b[0m, in \u001b[0;36mCursor.copy\u001b[0;34m(self, statement, params, writer)\u001b[0m\n\u001b[1;32m    906\u001b[0m         \u001b[39myield\u001b[39;00m copy\n\u001b[1;32m    907\u001b[0m \u001b[39mexcept\u001b[39;00m e\u001b[39m.\u001b[39mError \u001b[39mas\u001b[39;00m ex:\n\u001b[0;32m--> 908\u001b[0m     \u001b[39mraise\u001b[39;00m ex\u001b[39m.\u001b[39mwith_traceback(\u001b[39mNone\u001b[39;00m)\n\u001b[1;32m    910\u001b[0m \u001b[39m# If a fresher result has been set on the cursor by the Copy object,\u001b[39;00m\n\u001b[1;32m    911\u001b[0m \u001b[39m# read its properties (especially rowcount).\u001b[39;00m\n\u001b[1;32m    912\u001b[0m \u001b[39mself\u001b[39m\u001b[39m.\u001b[39m_select_current_result(\u001b[39m0\u001b[39m)\n",
      "\u001b[0;31mUniqueViolation\u001b[0m: duplicate key value violates unique constraint \"lonlat\"\nDETAIL:  Key (latitude, longitude)=(35.609917, -128.06052) already exists.\nCONTEXT:  COPY coordinates, line 1"
     ]
    }
   ],
   "source": [
    "# https://weather.gc.ca/grib/grib2_HRDPS_HR_e.html\n",
    "# https://weather.gc.ca/grib/HRDPS_HR/lamnatpoints.gz\n",
    "\n",
    "def write_coordinates():\n",
    "    coords_file = \"../data/coordinates/hrdps_continential.txt\"\n",
    "    df = pd.read_csv(coords_file, sep=\" \", names=[\"i\", \"j\", \"latitude\", \"longitude\"], header=1)\n",
    "\n",
    "    columns = [\"latitude\", \"longitude\"]\n",
    "    write_query = sql.SQL(\"COPY {table} ({columns}) FROM STDIN\").format(\n",
    "        table=sql.Identifier(\"public\", \"coordinates\"),\n",
    "        columns=sql.SQL(', ').join(map(sql.Identifier, columns)),\n",
    "    )\n",
    "\n",
    "    with psycopg.connect(**pg_connection_dict, autocommit=True) as conn:\n",
    "            with conn.cursor() as curr:\n",
    "                with curr.copy(write_query) as copy:\n",
    "                    for record in df[[\"latitude\", \"longitude\"]].values:\n",
    "                        copy.write_row(record)\n",
    "write_coordinates()"
   ]
  },
  {
   "cell_type": "code",
   "execution_count": 21,
   "metadata": {},
   "outputs": [],
   "source": [
    "def execute_sql_as_dataframe(sql_query: sql.Composed) -> pd.DataFrame:\n",
    "    with psycopg.connect(**pg_connection_dict, autocommit=True) as conn:\n",
    "            with conn.cursor() as curr:\n",
    "                res = curr.execute(sql_query).fetchall()\n",
    "                if curr.description:\n",
    "                    columns = [col.name for col in curr.description]\n",
    "                    return pd.DataFrame(res, columns=columns)\n",
    "                return pd.DataFrame()"
   ]
  },
  {
   "cell_type": "code",
   "execution_count": 22,
   "metadata": {},
   "outputs": [],
   "source": [
    "query = sql.SQL(\"SELECT {fields} FROM {table}\").format(\n",
    "    fields=sql.SQL(\", \").join(map(sql.Identifier, [\"coord_id\", \"latitude\", \"longitude\"])),\n",
    "    table=sql.Identifier(\"public\",\"coordinates\")\n",
    ")\n",
    "\n",
    "res = execute_sql_as_dataframe(query)"
   ]
  },
  {
   "cell_type": "code",
   "execution_count": 26,
   "metadata": {},
   "outputs": [
    {
     "name": "stdout",
     "output_type": "stream",
     "text": [
      "<class 'pandas.core.frame.DataFrame'>\n",
      "RangeIndex: 3750655 entries, 0 to 3750654\n",
      "Data columns (total 3 columns):\n",
      " #   Column     Dtype  \n",
      "---  ------     -----  \n",
      " 0   coord_id   int64  \n",
      " 1   latitude   float64\n",
      " 2   longitude  float64\n",
      "dtypes: float64(2), int64(1)\n",
      "memory usage: 85.8 MB\n"
     ]
    }
   ],
   "source": [
    "res.info()"
   ]
  }
 ],
 "metadata": {
  "kernelspec": {
   "display_name": ".venv",
   "language": "python",
   "name": "python3"
  },
  "language_info": {
   "codemirror_mode": {
    "name": "ipython",
    "version": 3
   },
   "file_extension": ".py",
   "mimetype": "text/x-python",
   "name": "python",
   "nbconvert_exporter": "python",
   "pygments_lexer": "ipython3",
   "version": "3.10.6"
  },
  "orig_nbformat": 4,
  "vscode": {
   "interpreter": {
    "hash": "f40483e87a18cc8f8e88bd5a8d04335d97209f4dfc5c79189588e91c12893167"
   }
  }
 },
 "nbformat": 4,
 "nbformat_minor": 2
}
