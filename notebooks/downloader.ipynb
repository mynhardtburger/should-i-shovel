{
 "cells": [
  {
   "cell_type": "code",
   "execution_count": 182,
   "metadata": {},
   "outputs": [],
   "source": [
    "import io\n",
    "import os\n",
    "import subprocess\n",
    "from datetime import datetime, timezone\n",
    "\n",
    "import dateparser\n",
    "import numpy as np\n",
    "import numpy.typing as npt\n",
    "import pandas as pd\n",
    "import pygrib\n",
    "import requests\n",
    "import xarray as xr"
   ]
  },
  {
   "attachments": {},
   "cell_type": "markdown",
   "metadata": {},
   "source": [
    "\"CMC_hrdps_domain_Variable_LevelType_level_ps2.5km_YYYYMMDDHH_Phhh-mm.grib2\"  \n",
    "\"CMC_hrdps_continental_SNOD_SFC_0_ps2.5km_2022121900_P000-00.grib2 \"  \n",
    "\"https://dd.weather.gc.ca/model_hrdps/continental/grib2/00/000/CMC_hrdps_continental_SNOD_SFC_0_ps2.5km_2022121900_P000-00.grib2\"  "
   ]
  },
  {
   "cell_type": "code",
   "execution_count": 185,
   "metadata": {},
   "outputs": [],
   "source": [
    "def create_urls() -> list[list[str]]:\n",
    "    base_url = \"https://dd.weather.gc.ca/model_hrdps/continental/grib2/\"\n",
    "    model_runs = [f\"{(i):0>2}\" for i in range(0, 24, 6)]\n",
    "    forecast_hours = [f\"{(i):0>3}\" for i in range(49)]\n",
    "    prefix = \"CMC\"\n",
    "    model = \"hrdps\"\n",
    "    domain = \"continental\"\n",
    "    variable = \"SNOD\"\n",
    "    level_type = \"SFC\"\n",
    "    level = \"0\"\n",
    "    resolution = \"ps2.5km\"\n",
    "    date = datetime.now(timezone.utc).strftime(\"%Y%m%d\")\n",
    "    minutes = \"00\"\n",
    "    extension = \"grib2\"\n",
    "\n",
    "    model_run_urls = []\n",
    "    for model_run in model_runs:\n",
    "        prediction_urls = []\n",
    "        for forecast_hour in forecast_hours:\n",
    "            filename = f\"{prefix}_{model}_{domain}_{variable}_{level_type}_{level}_{resolution}_{date}{model_run}_P{forecast_hour}-{minutes}.{extension}\"\n",
    "            download_url = f\"{base_url}{model_run}/{forecast_hour}/{filename}\"\n",
    "            prediction_urls.append(download_url)\n",
    "        model_run_urls.append(prediction_urls)\n",
    "    \n",
    "    return model_run_urls"
   ]
  },
  {
   "cell_type": "code",
   "execution_count": 186,
   "metadata": {},
   "outputs": [],
   "source": [
    "model_run_urls = create_urls()"
   ]
  },
  {
   "cell_type": "code",
   "execution_count": 187,
   "metadata": {},
   "outputs": [],
   "source": [
    "def find_latest_run(model_run_urls: list[list[str]]) -> int:\n",
    "    \"\"\"Find the latest model run by issuing a HEAD http request to the first url of each model run and comparing the \"Last-Modified\" field.\"\"\"\n",
    "    latest_time = datetime.fromisoformat(\"0001-01-01 00:00:00.000+00:00\")\n",
    "    latest_idx = 0\n",
    "    for idx, prediction_urls in enumerate(model_run_urls):\n",
    "        res = requests.head(prediction_urls[0])\n",
    "        if not res.ok:\n",
    "            continue\n",
    "\n",
    "        modified_date = dateparser.parse(res.headers[\"Last-Modified\"])\n",
    "        if not modified_date:\n",
    "            continue\n",
    "\n",
    "        if modified_date > latest_time:\n",
    "            latest_time = modified_date\n",
    "            latest_idx = idx\n",
    "\n",
    "    return latest_idx\n",
    "\n",
    "\n",
    "latest_id = find_latest_run(model_run_urls)"
   ]
  },
  {
   "cell_type": "code",
   "execution_count": 195,
   "metadata": {},
   "outputs": [
    {
     "name": "stderr",
     "output_type": "stream",
     "text": [
      "/tmp/ipykernel_7869/2093904912.py:7: DeprecationWarning: Using 'method_whitelist' with Retry is deprecated and will be removed in v2.0. Use 'allowed_methods' instead\n",
      "  retry_strategy = Retry(\n"
     ]
    },
    {
     "name": "stdout",
     "output_type": "stream",
     "text": [
      "Processing https://dd.weather.gc.ca/model_hrdps/continental/grib2/00/000/CMC_hrdps_continental_SNOD_SFC_0_ps2.5km_2022122000_P000-00.grib2\n",
      "Processing https://dd.weather.gc.ca/model_hrdps/continental/grib2/00/001/CMC_hrdps_continental_SNOD_SFC_0_ps2.5km_2022122000_P001-00.grib2\n",
      "Processing https://dd.weather.gc.ca/model_hrdps/continental/grib2/00/002/CMC_hrdps_continental_SNOD_SFC_0_ps2.5km_2022122000_P002-00.grib2\n",
      "Processing https://dd.weather.gc.ca/model_hrdps/continental/grib2/00/003/CMC_hrdps_continental_SNOD_SFC_0_ps2.5km_2022122000_P003-00.grib2\n",
      "Processing https://dd.weather.gc.ca/model_hrdps/continental/grib2/00/004/CMC_hrdps_continental_SNOD_SFC_0_ps2.5km_2022122000_P004-00.grib2\n",
      "Processing https://dd.weather.gc.ca/model_hrdps/continental/grib2/00/005/CMC_hrdps_continental_SNOD_SFC_0_ps2.5km_2022122000_P005-00.grib2\n",
      "Processing https://dd.weather.gc.ca/model_hrdps/continental/grib2/00/006/CMC_hrdps_continental_SNOD_SFC_0_ps2.5km_2022122000_P006-00.grib2\n",
      "Processing https://dd.weather.gc.ca/model_hrdps/continental/grib2/00/007/CMC_hrdps_continental_SNOD_SFC_0_ps2.5km_2022122000_P007-00.grib2\n",
      "Processing https://dd.weather.gc.ca/model_hrdps/continental/grib2/00/008/CMC_hrdps_continental_SNOD_SFC_0_ps2.5km_2022122000_P008-00.grib2\n",
      "Processing https://dd.weather.gc.ca/model_hrdps/continental/grib2/00/009/CMC_hrdps_continental_SNOD_SFC_0_ps2.5km_2022122000_P009-00.grib2\n",
      "Processing https://dd.weather.gc.ca/model_hrdps/continental/grib2/00/010/CMC_hrdps_continental_SNOD_SFC_0_ps2.5km_2022122000_P010-00.grib2\n",
      "Processing https://dd.weather.gc.ca/model_hrdps/continental/grib2/00/011/CMC_hrdps_continental_SNOD_SFC_0_ps2.5km_2022122000_P011-00.grib2\n",
      "Processing https://dd.weather.gc.ca/model_hrdps/continental/grib2/00/012/CMC_hrdps_continental_SNOD_SFC_0_ps2.5km_2022122000_P012-00.grib2\n",
      "Processing https://dd.weather.gc.ca/model_hrdps/continental/grib2/00/013/CMC_hrdps_continental_SNOD_SFC_0_ps2.5km_2022122000_P013-00.grib2\n",
      "Processing https://dd.weather.gc.ca/model_hrdps/continental/grib2/00/014/CMC_hrdps_continental_SNOD_SFC_0_ps2.5km_2022122000_P014-00.grib2\n",
      "Processing https://dd.weather.gc.ca/model_hrdps/continental/grib2/00/015/CMC_hrdps_continental_SNOD_SFC_0_ps2.5km_2022122000_P015-00.grib2\n",
      "Processing https://dd.weather.gc.ca/model_hrdps/continental/grib2/00/016/CMC_hrdps_continental_SNOD_SFC_0_ps2.5km_2022122000_P016-00.grib2\n",
      "Processing https://dd.weather.gc.ca/model_hrdps/continental/grib2/00/017/CMC_hrdps_continental_SNOD_SFC_0_ps2.5km_2022122000_P017-00.grib2\n",
      "Processing https://dd.weather.gc.ca/model_hrdps/continental/grib2/00/018/CMC_hrdps_continental_SNOD_SFC_0_ps2.5km_2022122000_P018-00.grib2\n",
      "Processing https://dd.weather.gc.ca/model_hrdps/continental/grib2/00/019/CMC_hrdps_continental_SNOD_SFC_0_ps2.5km_2022122000_P019-00.grib2\n",
      "Processing https://dd.weather.gc.ca/model_hrdps/continental/grib2/00/020/CMC_hrdps_continental_SNOD_SFC_0_ps2.5km_2022122000_P020-00.grib2\n",
      "Processing https://dd.weather.gc.ca/model_hrdps/continental/grib2/00/021/CMC_hrdps_continental_SNOD_SFC_0_ps2.5km_2022122000_P021-00.grib2\n",
      "Processing https://dd.weather.gc.ca/model_hrdps/continental/grib2/00/022/CMC_hrdps_continental_SNOD_SFC_0_ps2.5km_2022122000_P022-00.grib2\n",
      "Processing https://dd.weather.gc.ca/model_hrdps/continental/grib2/00/023/CMC_hrdps_continental_SNOD_SFC_0_ps2.5km_2022122000_P023-00.grib2\n",
      "Processing https://dd.weather.gc.ca/model_hrdps/continental/grib2/00/024/CMC_hrdps_continental_SNOD_SFC_0_ps2.5km_2022122000_P024-00.grib2\n",
      "Processing https://dd.weather.gc.ca/model_hrdps/continental/grib2/00/025/CMC_hrdps_continental_SNOD_SFC_0_ps2.5km_2022122000_P025-00.grib2\n"
     ]
    },
    {
     "ename": "FileNotFoundError",
     "evalue": "[Errno 2] No such file or directory: '../data/CMC_hrdps_continental_SNOD_SFC_0_ps2.5km_2022122000_P025-00.grib2'",
     "output_type": "error",
     "traceback": [
      "\u001b[0;31m---------------------------------------------------------------------------\u001b[0m",
      "\u001b[0;31mFileNotFoundError\u001b[0m                         Traceback (most recent call last)",
      "Cell \u001b[0;32mIn[195], line 28\u001b[0m\n\u001b[1;32m     25\u001b[0m         filepaths\u001b[39m.\u001b[39mappend(filepath)\n\u001b[1;32m     26\u001b[0m     \u001b[39mreturn\u001b[39;00m filepaths\n\u001b[0;32m---> 28\u001b[0m paths \u001b[39m=\u001b[39m download_predictions(model_run_urls, latest_id, \u001b[39m\"\u001b[39;49m\u001b[39m../data/\u001b[39;49m\u001b[39m\"\u001b[39;49m)\n",
      "Cell \u001b[0;32mIn[195], line 23\u001b[0m, in \u001b[0;36mdownload_predictions\u001b[0;34m(model_run_urls, model_idx, savepath)\u001b[0m\n\u001b[1;32m     21\u001b[0m res \u001b[39m=\u001b[39m http\u001b[39m.\u001b[39mget(prediction_url)\n\u001b[1;32m     22\u001b[0m filepath \u001b[39m=\u001b[39m os\u001b[39m.\u001b[39mpath\u001b[39m.\u001b[39mjoin(savepath, filename)\n\u001b[0;32m---> 23\u001b[0m \u001b[39mwith\u001b[39;00m \u001b[39mopen\u001b[39;49m(filepath, \u001b[39m\"\u001b[39;49m\u001b[39mwb\u001b[39;49m\u001b[39m\"\u001b[39;49m) \u001b[39mas\u001b[39;00m f:\n\u001b[1;32m     24\u001b[0m     f\u001b[39m.\u001b[39mwrite(res\u001b[39m.\u001b[39mcontent)\n\u001b[1;32m     25\u001b[0m filepaths\u001b[39m.\u001b[39mappend(filepath)\n",
      "File \u001b[0;32m/mnt/c/Users/mynha/Projects/shouldishovel/.venv/lib/python3.10/site-packages/IPython/core/interactiveshell.py:282\u001b[0m, in \u001b[0;36m_modified_open\u001b[0;34m(file, *args, **kwargs)\u001b[0m\n\u001b[1;32m    275\u001b[0m \u001b[39mif\u001b[39;00m file \u001b[39min\u001b[39;00m {\u001b[39m0\u001b[39m, \u001b[39m1\u001b[39m, \u001b[39m2\u001b[39m}:\n\u001b[1;32m    276\u001b[0m     \u001b[39mraise\u001b[39;00m \u001b[39mValueError\u001b[39;00m(\n\u001b[1;32m    277\u001b[0m         \u001b[39mf\u001b[39m\u001b[39m\"\u001b[39m\u001b[39mIPython won\u001b[39m\u001b[39m'\u001b[39m\u001b[39mt let you open fd=\u001b[39m\u001b[39m{\u001b[39;00mfile\u001b[39m}\u001b[39;00m\u001b[39m by default \u001b[39m\u001b[39m\"\u001b[39m\n\u001b[1;32m    278\u001b[0m         \u001b[39m\"\u001b[39m\u001b[39mas it is likely to crash IPython. If you know what you are doing, \u001b[39m\u001b[39m\"\u001b[39m\n\u001b[1;32m    279\u001b[0m         \u001b[39m\"\u001b[39m\u001b[39myou can use builtins\u001b[39m\u001b[39m'\u001b[39m\u001b[39m open.\u001b[39m\u001b[39m\"\u001b[39m\n\u001b[1;32m    280\u001b[0m     )\n\u001b[0;32m--> 282\u001b[0m \u001b[39mreturn\u001b[39;00m io_open(file, \u001b[39m*\u001b[39;49margs, \u001b[39m*\u001b[39;49m\u001b[39m*\u001b[39;49mkwargs)\n",
      "\u001b[0;31mFileNotFoundError\u001b[0m: [Errno 2] No such file or directory: '../data/CMC_hrdps_continental_SNOD_SFC_0_ps2.5km_2022122000_P025-00.grib2'"
     ]
    }
   ],
   "source": [
    "from requests.adapters import HTTPAdapter\n",
    "from requests.packages.urllib3.util.retry import Retry\n",
    "\n",
    "def download_predictions(model_run_urls: list[list[str]], model_idx:int = 0, savepath:str = \"./\") -> list[str]:\n",
    "    filepaths = []\n",
    "\n",
    "    retry_strategy = Retry(\n",
    "        total=3,\n",
    "        backoff_factor=0.3,\n",
    "        status_forcelist=[404, 429, 500, 502, 503, 504],\n",
    "        method_whitelist=[\"HEAD\", \"GET\", \"OPTIONS\"]\n",
    "    )\n",
    "    adapter = HTTPAdapter(max_retries=retry_strategy)\n",
    "    http = requests.Session()\n",
    "    http.mount(\"https://\", adapter)\n",
    "    http.mount(\"http://\", adapter)\n",
    "\n",
    "    for prediction_url in model_run_urls[model_idx]:\n",
    "        filename = prediction_url.split(\"/\")[-1]\n",
    "        print(f\"Processing {prediction_url}\")\n",
    "        res = http.get(prediction_url)\n",
    "        filepath = os.path.join(savepath, filename)\n",
    "        with open(filepath, \"wb\") as f:\n",
    "            f.write(res.content)\n",
    "        filepaths.append(filepath)\n",
    "    return filepaths\n",
    "\n",
    "paths = download_predictions(model_run_urls, latest_id, \"../data/\")"
   ]
  },
  {
   "cell_type": "code",
   "execution_count": 189,
   "metadata": {},
   "outputs": [
    {
     "name": "stdout",
     "output_type": "stream",
     "text": [
      "Processing https://dd.weather.gc.ca/model_hrdps/continental/grib2/00/000/CMC_hrdps_continental_SNOD_SFC_0_ps2.5km_2022122000_P000-00.grib2\n",
      "Processing https://dd.weather.gc.ca/model_hrdps/continental/grib2/00/001/CMC_hrdps_continental_SNOD_SFC_0_ps2.5km_2022122000_P001-00.grib2\n",
      "Processing https://dd.weather.gc.ca/model_hrdps/continental/grib2/00/002/CMC_hrdps_continental_SNOD_SFC_0_ps2.5km_2022122000_P002-00.grib2\n",
      "Processing https://dd.weather.gc.ca/model_hrdps/continental/grib2/00/003/CMC_hrdps_continental_SNOD_SFC_0_ps2.5km_2022122000_P003-00.grib2\n",
      "Processing https://dd.weather.gc.ca/model_hrdps/continental/grib2/00/004/CMC_hrdps_continental_SNOD_SFC_0_ps2.5km_2022122000_P004-00.grib2\n",
      "Processing https://dd.weather.gc.ca/model_hrdps/continental/grib2/00/005/CMC_hrdps_continental_SNOD_SFC_0_ps2.5km_2022122000_P005-00.grib2\n",
      "Processing https://dd.weather.gc.ca/model_hrdps/continental/grib2/00/006/CMC_hrdps_continental_SNOD_SFC_0_ps2.5km_2022122000_P006-00.grib2\n",
      "Processing https://dd.weather.gc.ca/model_hrdps/continental/grib2/00/007/CMC_hrdps_continental_SNOD_SFC_0_ps2.5km_2022122000_P007-00.grib2\n",
      "Processing https://dd.weather.gc.ca/model_hrdps/continental/grib2/00/008/CMC_hrdps_continental_SNOD_SFC_0_ps2.5km_2022122000_P008-00.grib2\n",
      "Processing https://dd.weather.gc.ca/model_hrdps/continental/grib2/00/009/CMC_hrdps_continental_SNOD_SFC_0_ps2.5km_2022122000_P009-00.grib2\n",
      "Processing https://dd.weather.gc.ca/model_hrdps/continental/grib2/00/010/CMC_hrdps_continental_SNOD_SFC_0_ps2.5km_2022122000_P010-00.grib2\n",
      "Processing https://dd.weather.gc.ca/model_hrdps/continental/grib2/00/011/CMC_hrdps_continental_SNOD_SFC_0_ps2.5km_2022122000_P011-00.grib2\n",
      "Processing https://dd.weather.gc.ca/model_hrdps/continental/grib2/00/012/CMC_hrdps_continental_SNOD_SFC_0_ps2.5km_2022122000_P012-00.grib2\n",
      "Processing https://dd.weather.gc.ca/model_hrdps/continental/grib2/00/013/CMC_hrdps_continental_SNOD_SFC_0_ps2.5km_2022122000_P013-00.grib2\n",
      "Processing https://dd.weather.gc.ca/model_hrdps/continental/grib2/00/014/CMC_hrdps_continental_SNOD_SFC_0_ps2.5km_2022122000_P014-00.grib2\n",
      "Processing https://dd.weather.gc.ca/model_hrdps/continental/grib2/00/015/CMC_hrdps_continental_SNOD_SFC_0_ps2.5km_2022122000_P015-00.grib2\n",
      "Processing https://dd.weather.gc.ca/model_hrdps/continental/grib2/00/016/CMC_hrdps_continental_SNOD_SFC_0_ps2.5km_2022122000_P016-00.grib2\n",
      "Processing https://dd.weather.gc.ca/model_hrdps/continental/grib2/00/017/CMC_hrdps_continental_SNOD_SFC_0_ps2.5km_2022122000_P017-00.grib2\n",
      "Processing https://dd.weather.gc.ca/model_hrdps/continental/grib2/00/018/CMC_hrdps_continental_SNOD_SFC_0_ps2.5km_2022122000_P018-00.grib2\n",
      "Processing https://dd.weather.gc.ca/model_hrdps/continental/grib2/00/019/CMC_hrdps_continental_SNOD_SFC_0_ps2.5km_2022122000_P019-00.grib2\n",
      "Processing https://dd.weather.gc.ca/model_hrdps/continental/grib2/00/020/CMC_hrdps_continental_SNOD_SFC_0_ps2.5km_2022122000_P020-00.grib2\n",
      "Processing https://dd.weather.gc.ca/model_hrdps/continental/grib2/00/021/CMC_hrdps_continental_SNOD_SFC_0_ps2.5km_2022122000_P021-00.grib2\n",
      "Processing https://dd.weather.gc.ca/model_hrdps/continental/grib2/00/022/CMC_hrdps_continental_SNOD_SFC_0_ps2.5km_2022122000_P022-00.grib2\n",
      "Processing https://dd.weather.gc.ca/model_hrdps/continental/grib2/00/023/CMC_hrdps_continental_SNOD_SFC_0_ps2.5km_2022122000_P023-00.grib2\n",
      "Processing https://dd.weather.gc.ca/model_hrdps/continental/grib2/00/024/CMC_hrdps_continental_SNOD_SFC_0_ps2.5km_2022122000_P024-00.grib2\n",
      "Processing https://dd.weather.gc.ca/model_hrdps/continental/grib2/00/025/CMC_hrdps_continental_SNOD_SFC_0_ps2.5km_2022122000_P025-00.grib2\n",
      "Processing https://dd.weather.gc.ca/model_hrdps/continental/grib2/00/026/CMC_hrdps_continental_SNOD_SFC_0_ps2.5km_2022122000_P026-00.grib2\n",
      "Processing https://dd.weather.gc.ca/model_hrdps/continental/grib2/00/027/CMC_hrdps_continental_SNOD_SFC_0_ps2.5km_2022122000_P027-00.grib2\n",
      "Processing https://dd.weather.gc.ca/model_hrdps/continental/grib2/00/028/CMC_hrdps_continental_SNOD_SFC_0_ps2.5km_2022122000_P028-00.grib2\n",
      "Processing https://dd.weather.gc.ca/model_hrdps/continental/grib2/00/029/CMC_hrdps_continental_SNOD_SFC_0_ps2.5km_2022122000_P029-00.grib2\n",
      "Processing https://dd.weather.gc.ca/model_hrdps/continental/grib2/00/030/CMC_hrdps_continental_SNOD_SFC_0_ps2.5km_2022122000_P030-00.grib2\n",
      "Processing https://dd.weather.gc.ca/model_hrdps/continental/grib2/00/031/CMC_hrdps_continental_SNOD_SFC_0_ps2.5km_2022122000_P031-00.grib2\n",
      "Processing https://dd.weather.gc.ca/model_hrdps/continental/grib2/00/032/CMC_hrdps_continental_SNOD_SFC_0_ps2.5km_2022122000_P032-00.grib2\n",
      "Processing https://dd.weather.gc.ca/model_hrdps/continental/grib2/00/033/CMC_hrdps_continental_SNOD_SFC_0_ps2.5km_2022122000_P033-00.grib2\n",
      "Processing https://dd.weather.gc.ca/model_hrdps/continental/grib2/00/034/CMC_hrdps_continental_SNOD_SFC_0_ps2.5km_2022122000_P034-00.grib2\n",
      "Processing https://dd.weather.gc.ca/model_hrdps/continental/grib2/00/035/CMC_hrdps_continental_SNOD_SFC_0_ps2.5km_2022122000_P035-00.grib2\n",
      "Processing https://dd.weather.gc.ca/model_hrdps/continental/grib2/00/036/CMC_hrdps_continental_SNOD_SFC_0_ps2.5km_2022122000_P036-00.grib2\n",
      "Processing https://dd.weather.gc.ca/model_hrdps/continental/grib2/00/037/CMC_hrdps_continental_SNOD_SFC_0_ps2.5km_2022122000_P037-00.grib2\n",
      "Processing https://dd.weather.gc.ca/model_hrdps/continental/grib2/00/038/CMC_hrdps_continental_SNOD_SFC_0_ps2.5km_2022122000_P038-00.grib2\n",
      "Processing https://dd.weather.gc.ca/model_hrdps/continental/grib2/00/039/CMC_hrdps_continental_SNOD_SFC_0_ps2.5km_2022122000_P039-00.grib2\n",
      "Processing https://dd.weather.gc.ca/model_hrdps/continental/grib2/00/040/CMC_hrdps_continental_SNOD_SFC_0_ps2.5km_2022122000_P040-00.grib2\n",
      "Processing https://dd.weather.gc.ca/model_hrdps/continental/grib2/00/041/CMC_hrdps_continental_SNOD_SFC_0_ps2.5km_2022122000_P041-00.grib2\n",
      "Processing https://dd.weather.gc.ca/model_hrdps/continental/grib2/00/042/CMC_hrdps_continental_SNOD_SFC_0_ps2.5km_2022122000_P042-00.grib2\n",
      "Processing https://dd.weather.gc.ca/model_hrdps/continental/grib2/00/043/CMC_hrdps_continental_SNOD_SFC_0_ps2.5km_2022122000_P043-00.grib2\n",
      "Processing https://dd.weather.gc.ca/model_hrdps/continental/grib2/00/044/CMC_hrdps_continental_SNOD_SFC_0_ps2.5km_2022122000_P044-00.grib2\n",
      "Processing https://dd.weather.gc.ca/model_hrdps/continental/grib2/00/045/CMC_hrdps_continental_SNOD_SFC_0_ps2.5km_2022122000_P045-00.grib2\n",
      "Processing https://dd.weather.gc.ca/model_hrdps/continental/grib2/00/046/CMC_hrdps_continental_SNOD_SFC_0_ps2.5km_2022122000_P046-00.grib2\n",
      "Processing https://dd.weather.gc.ca/model_hrdps/continental/grib2/00/047/CMC_hrdps_continental_SNOD_SFC_0_ps2.5km_2022122000_P047-00.grib2\n",
      "Processing https://dd.weather.gc.ca/model_hrdps/continental/grib2/00/048/CMC_hrdps_continental_SNOD_SFC_0_ps2.5km_2022122000_P048-00.grib2\n"
     ]
    }
   ],
   "source": [
    "def download_predictions(model_run_urls: list[list[str]], model_idx:int = 0, savepath:str = \"./\") -> list[str]:\n",
    "    filepaths = []\n",
    "    for prediction_url in model_run_urls[model_idx]:\n",
    "        filename = prediction_url.split(\"/\")[-1]\n",
    "        print(f\"Processing {prediction_url}\")\n",
    "        res = requests.get(prediction_url)\n",
    "        filepath = os.path.join(savepath, filename)\n",
    "        with open(filepath, \"wb\") as f:\n",
    "            f.write(res.content)\n",
    "        filepaths.append(filepath)\n",
    "    return filepaths\n",
    "\n",
    "paths = download_predictions(model_run_urls, latest_id, \"../data/\")"
   ]
  },
  {
   "cell_type": "code",
   "execution_count": 191,
   "metadata": {},
   "outputs": [
    {
     "data": {
      "text/plain": [
       "['../data/CMC_hrdps_continental_SNOD_SFC_0_ps2.5km_2022122000_P000-00.grib2',\n",
       " '../data/CMC_hrdps_continental_SNOD_SFC_0_ps2.5km_2022122000_P001-00.grib2',\n",
       " '../data/CMC_hrdps_continental_SNOD_SFC_0_ps2.5km_2022122000_P002-00.grib2',\n",
       " '../data/CMC_hrdps_continental_SNOD_SFC_0_ps2.5km_2022122000_P003-00.grib2',\n",
       " '../data/CMC_hrdps_continental_SNOD_SFC_0_ps2.5km_2022122000_P004-00.grib2',\n",
       " '../data/CMC_hrdps_continental_SNOD_SFC_0_ps2.5km_2022122000_P005-00.grib2',\n",
       " '../data/CMC_hrdps_continental_SNOD_SFC_0_ps2.5km_2022122000_P006-00.grib2',\n",
       " '../data/CMC_hrdps_continental_SNOD_SFC_0_ps2.5km_2022122000_P007-00.grib2',\n",
       " '../data/CMC_hrdps_continental_SNOD_SFC_0_ps2.5km_2022122000_P008-00.grib2',\n",
       " '../data/CMC_hrdps_continental_SNOD_SFC_0_ps2.5km_2022122000_P009-00.grib2',\n",
       " '../data/CMC_hrdps_continental_SNOD_SFC_0_ps2.5km_2022122000_P010-00.grib2',\n",
       " '../data/CMC_hrdps_continental_SNOD_SFC_0_ps2.5km_2022122000_P011-00.grib2',\n",
       " '../data/CMC_hrdps_continental_SNOD_SFC_0_ps2.5km_2022122000_P012-00.grib2',\n",
       " '../data/CMC_hrdps_continental_SNOD_SFC_0_ps2.5km_2022122000_P013-00.grib2',\n",
       " '../data/CMC_hrdps_continental_SNOD_SFC_0_ps2.5km_2022122000_P014-00.grib2',\n",
       " '../data/CMC_hrdps_continental_SNOD_SFC_0_ps2.5km_2022122000_P015-00.grib2',\n",
       " '../data/CMC_hrdps_continental_SNOD_SFC_0_ps2.5km_2022122000_P016-00.grib2',\n",
       " '../data/CMC_hrdps_continental_SNOD_SFC_0_ps2.5km_2022122000_P017-00.grib2',\n",
       " '../data/CMC_hrdps_continental_SNOD_SFC_0_ps2.5km_2022122000_P018-00.grib2',\n",
       " '../data/CMC_hrdps_continental_SNOD_SFC_0_ps2.5km_2022122000_P019-00.grib2',\n",
       " '../data/CMC_hrdps_continental_SNOD_SFC_0_ps2.5km_2022122000_P020-00.grib2',\n",
       " '../data/CMC_hrdps_continental_SNOD_SFC_0_ps2.5km_2022122000_P021-00.grib2',\n",
       " '../data/CMC_hrdps_continental_SNOD_SFC_0_ps2.5km_2022122000_P022-00.grib2',\n",
       " '../data/CMC_hrdps_continental_SNOD_SFC_0_ps2.5km_2022122000_P023-00.grib2',\n",
       " '../data/CMC_hrdps_continental_SNOD_SFC_0_ps2.5km_2022122000_P024-00.grib2',\n",
       " '../data/CMC_hrdps_continental_SNOD_SFC_0_ps2.5km_2022122000_P025-00.grib2',\n",
       " '../data/CMC_hrdps_continental_SNOD_SFC_0_ps2.5km_2022122000_P026-00.grib2',\n",
       " '../data/CMC_hrdps_continental_SNOD_SFC_0_ps2.5km_2022122000_P027-00.grib2',\n",
       " '../data/CMC_hrdps_continental_SNOD_SFC_0_ps2.5km_2022122000_P028-00.grib2',\n",
       " '../data/CMC_hrdps_continental_SNOD_SFC_0_ps2.5km_2022122000_P029-00.grib2',\n",
       " '../data/CMC_hrdps_continental_SNOD_SFC_0_ps2.5km_2022122000_P030-00.grib2',\n",
       " '../data/CMC_hrdps_continental_SNOD_SFC_0_ps2.5km_2022122000_P031-00.grib2',\n",
       " '../data/CMC_hrdps_continental_SNOD_SFC_0_ps2.5km_2022122000_P032-00.grib2',\n",
       " '../data/CMC_hrdps_continental_SNOD_SFC_0_ps2.5km_2022122000_P033-00.grib2',\n",
       " '../data/CMC_hrdps_continental_SNOD_SFC_0_ps2.5km_2022122000_P034-00.grib2',\n",
       " '../data/CMC_hrdps_continental_SNOD_SFC_0_ps2.5km_2022122000_P035-00.grib2',\n",
       " '../data/CMC_hrdps_continental_SNOD_SFC_0_ps2.5km_2022122000_P036-00.grib2',\n",
       " '../data/CMC_hrdps_continental_SNOD_SFC_0_ps2.5km_2022122000_P037-00.grib2',\n",
       " '../data/CMC_hrdps_continental_SNOD_SFC_0_ps2.5km_2022122000_P038-00.grib2',\n",
       " '../data/CMC_hrdps_continental_SNOD_SFC_0_ps2.5km_2022122000_P039-00.grib2',\n",
       " '../data/CMC_hrdps_continental_SNOD_SFC_0_ps2.5km_2022122000_P040-00.grib2',\n",
       " '../data/CMC_hrdps_continental_SNOD_SFC_0_ps2.5km_2022122000_P041-00.grib2',\n",
       " '../data/CMC_hrdps_continental_SNOD_SFC_0_ps2.5km_2022122000_P042-00.grib2',\n",
       " '../data/CMC_hrdps_continental_SNOD_SFC_0_ps2.5km_2022122000_P043-00.grib2',\n",
       " '../data/CMC_hrdps_continental_SNOD_SFC_0_ps2.5km_2022122000_P044-00.grib2',\n",
       " '../data/CMC_hrdps_continental_SNOD_SFC_0_ps2.5km_2022122000_P045-00.grib2',\n",
       " '../data/CMC_hrdps_continental_SNOD_SFC_0_ps2.5km_2022122000_P046-00.grib2',\n",
       " '../data/CMC_hrdps_continental_SNOD_SFC_0_ps2.5km_2022122000_P047-00.grib2',\n",
       " '../data/CMC_hrdps_continental_SNOD_SFC_0_ps2.5km_2022122000_P048-00.grib2']"
      ]
     },
     "execution_count": 191,
     "metadata": {},
     "output_type": "execute_result"
    }
   ],
   "source": [
    "paths"
   ]
  },
  {
   "cell_type": "code",
   "execution_count": 192,
   "metadata": {},
   "outputs": [
    {
     "name": "stdout",
     "output_type": "stream",
     "text": [
      "Reading ../data/CMC_hrdps_continental_SNOD_SFC_0_ps2.5km_2022122000_P000-00.grib2\n",
      "Reading ../data/CMC_hrdps_continental_SNOD_SFC_0_ps2.5km_2022122000_P001-00.grib2\n",
      "Reading ../data/CMC_hrdps_continental_SNOD_SFC_0_ps2.5km_2022122000_P002-00.grib2\n",
      "Reading ../data/CMC_hrdps_continental_SNOD_SFC_0_ps2.5km_2022122000_P003-00.grib2\n",
      "Reading ../data/CMC_hrdps_continental_SNOD_SFC_0_ps2.5km_2022122000_P004-00.grib2\n",
      "Reading ../data/CMC_hrdps_continental_SNOD_SFC_0_ps2.5km_2022122000_P005-00.grib2\n",
      "Reading ../data/CMC_hrdps_continental_SNOD_SFC_0_ps2.5km_2022122000_P006-00.grib2\n",
      "Reading ../data/CMC_hrdps_continental_SNOD_SFC_0_ps2.5km_2022122000_P007-00.grib2\n",
      "Reading ../data/CMC_hrdps_continental_SNOD_SFC_0_ps2.5km_2022122000_P008-00.grib2\n",
      "Reading ../data/CMC_hrdps_continental_SNOD_SFC_0_ps2.5km_2022122000_P009-00.grib2\n",
      "Reading ../data/CMC_hrdps_continental_SNOD_SFC_0_ps2.5km_2022122000_P010-00.grib2\n",
      "Reading ../data/CMC_hrdps_continental_SNOD_SFC_0_ps2.5km_2022122000_P011-00.grib2\n",
      "Reading ../data/CMC_hrdps_continental_SNOD_SFC_0_ps2.5km_2022122000_P012-00.grib2\n",
      "Reading ../data/CMC_hrdps_continental_SNOD_SFC_0_ps2.5km_2022122000_P013-00.grib2\n",
      "Reading ../data/CMC_hrdps_continental_SNOD_SFC_0_ps2.5km_2022122000_P014-00.grib2\n",
      "Reading ../data/CMC_hrdps_continental_SNOD_SFC_0_ps2.5km_2022122000_P015-00.grib2\n",
      "Reading ../data/CMC_hrdps_continental_SNOD_SFC_0_ps2.5km_2022122000_P016-00.grib2\n",
      "Reading ../data/CMC_hrdps_continental_SNOD_SFC_0_ps2.5km_2022122000_P017-00.grib2\n",
      "Reading ../data/CMC_hrdps_continental_SNOD_SFC_0_ps2.5km_2022122000_P018-00.grib2\n",
      "Reading ../data/CMC_hrdps_continental_SNOD_SFC_0_ps2.5km_2022122000_P019-00.grib2\n",
      "Reading ../data/CMC_hrdps_continental_SNOD_SFC_0_ps2.5km_2022122000_P020-00.grib2\n",
      "Reading ../data/CMC_hrdps_continental_SNOD_SFC_0_ps2.5km_2022122000_P021-00.grib2\n",
      "Reading ../data/CMC_hrdps_continental_SNOD_SFC_0_ps2.5km_2022122000_P022-00.grib2\n",
      "Reading ../data/CMC_hrdps_continental_SNOD_SFC_0_ps2.5km_2022122000_P023-00.grib2\n",
      "Reading ../data/CMC_hrdps_continental_SNOD_SFC_0_ps2.5km_2022122000_P024-00.grib2\n",
      "Reading ../data/CMC_hrdps_continental_SNOD_SFC_0_ps2.5km_2022122000_P025-00.grib2\n"
     ]
    },
    {
     "ename": "OSError",
     "evalue": "not that many messages in file",
     "output_type": "error",
     "traceback": [
      "\u001b[0;31m---------------------------------------------------------------------------\u001b[0m",
      "\u001b[0;31mOSError\u001b[0m                                   Traceback (most recent call last)",
      "Cell \u001b[0;32mIn[192], line 11\u001b[0m\n\u001b[1;32m      8\u001b[0m         predictions\u001b[39m.\u001b[39mappend(data\u001b[39m.\u001b[39mreshape(\u001b[39m-\u001b[39m\u001b[39m1\u001b[39m))\n\u001b[1;32m      9\u001b[0m     \u001b[39mreturn\u001b[39;00m predictions\n\u001b[0;32m---> 11\u001b[0m data \u001b[39m=\u001b[39m read_grib_predictions(paths)\n",
      "Cell \u001b[0;32mIn[192], line 7\u001b[0m, in \u001b[0;36mread_grib_predictions\u001b[0;34m(filepaths)\u001b[0m\n\u001b[1;32m      5\u001b[0m     \u001b[39mprint\u001b[39m(\u001b[39mf\u001b[39m\u001b[39m\"\u001b[39m\u001b[39mReading \u001b[39m\u001b[39m{\u001b[39;00mpath\u001b[39m}\u001b[39;00m\u001b[39m\"\u001b[39m)\n\u001b[1;32m      6\u001b[0m     gribs \u001b[39m=\u001b[39m pygrib\u001b[39m.\u001b[39mopen(path)\n\u001b[0;32m----> 7\u001b[0m     data \u001b[39m=\u001b[39m np\u001b[39m.\u001b[39mma\u001b[39m.\u001b[39mfilled(gribs[\u001b[39m1\u001b[39;49m]\u001b[39m.\u001b[39mvalues, \u001b[39m0\u001b[39m)\n\u001b[1;32m      8\u001b[0m     predictions\u001b[39m.\u001b[39mappend(data\u001b[39m.\u001b[39mreshape(\u001b[39m-\u001b[39m\u001b[39m1\u001b[39m))\n\u001b[1;32m      9\u001b[0m \u001b[39mreturn\u001b[39;00m predictions\n",
      "File \u001b[0;32msrc/pygrib/_pygrib.pyx:380\u001b[0m, in \u001b[0;36mpygrib._pygrib.open.__getitem__\u001b[0;34m()\u001b[0m\n",
      "File \u001b[0;32msrc/pygrib/_pygrib.pyx:492\u001b[0m, in \u001b[0;36mpygrib._pygrib.open.message\u001b[0;34m()\u001b[0m\n",
      "File \u001b[0;32msrc/pygrib/_pygrib.pyx:556\u001b[0m, in \u001b[0;36mpygrib._pygrib.open._advance\u001b[0;34m()\u001b[0m\n",
      "\u001b[0;31mOSError\u001b[0m: not that many messages in file"
     ]
    }
   ],
   "source": [
    "# %%timeit\n",
    "def read_grib_predictions(filepaths:list[str]) -> list[npt.NDArray]:\n",
    "    predictions:list[npt.NDArray] = []\n",
    "    for path in filepaths:\n",
    "        print(f\"Reading {path}\")\n",
    "        gribs = pygrib.open(path)\n",
    "        data = np.ma.filled(gribs[1].values, 0)\n",
    "        predictions.append(data.reshape(-1))\n",
    "    return predictions\n",
    "\n",
    "data = read_grib_predictions(paths)"
   ]
  },
  {
   "cell_type": "code",
   "execution_count": 154,
   "metadata": {},
   "outputs": [
    {
     "name": "stdout",
     "output_type": "stream",
     "text": [
      "2.67 s ± 85 ms per loop (mean ± std. dev. of 7 runs, 1 loop each)\n"
     ]
    }
   ],
   "source": [
    "%%timeit\n",
    "ds = xr.open_dataset(\n",
    "    \"../data/CMC_hrdps_continental_SNOD_SFC_0_ps2.5km_2022121918_P001-00.grib2\",\n",
    "    engine=\"cfgrib\",\n",
    "    indexpath=\"\",\n",
    ").fillna(0).to_dataframe()\n",
    "ds"
   ]
  },
  {
   "cell_type": "code",
   "execution_count": 179,
   "metadata": {},
   "outputs": [],
   "source": []
  },
  {
   "cell_type": "code",
   "execution_count": 167,
   "metadata": {},
   "outputs": [
    {
     "name": "stdout",
     "output_type": "stream",
     "text": [
      "1.3 s ± 31.7 ms per loop (mean ± std. dev. of 7 runs, 1 loop each)\n"
     ]
    }
   ],
   "source": [
    "%%timeit\n",
    "cmd = [\"grib_dump\", \"../data/CMC_hrdps_continental_SNOD_SFC_0_ps2.5km_2022121918_P002-00.grib2\"]\n",
    "proc = subprocess.run(cmd, capture_output=True, text=True)"
   ]
  }
 ],
 "metadata": {
  "kernelspec": {
   "display_name": ".venv",
   "language": "python",
   "name": "python3"
  },
  "language_info": {
   "codemirror_mode": {
    "name": "ipython",
    "version": 3
   },
   "file_extension": ".py",
   "mimetype": "text/x-python",
   "name": "python",
   "nbconvert_exporter": "python",
   "pygments_lexer": "ipython3",
   "version": "3.10.6"
  },
  "orig_nbformat": 4,
  "vscode": {
   "interpreter": {
    "hash": "f40483e87a18cc8f8e88bd5a8d04335d97209f4dfc5c79189588e91c12893167"
   }
  }
 },
 "nbformat": 4,
 "nbformat_minor": 2
}
