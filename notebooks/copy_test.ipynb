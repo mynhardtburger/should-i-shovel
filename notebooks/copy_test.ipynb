{
 "cells": [
  {
   "cell_type": "code",
   "execution_count": 17,
   "metadata": {},
   "outputs": [],
   "source": [
    "from typing import TypeAlias, Union, Sequence, Any, Mapping, Optional\n",
    "import psycopg\n",
    "from psycopg import sql\n",
    "import io\n",
    "import boto3\n",
    "\n",
    "Query: TypeAlias = Union[bytes, \"sql.SQL\", \"sql.Composed\"]\n",
    "Params: TypeAlias = Union[Sequence[Any], Mapping[str, Any]]"
   ]
  },
  {
   "cell_type": "code",
   "execution_count": 2,
   "metadata": {},
   "outputs": [],
   "source": [
    "pg_connection_dict = {\n",
    "    'dbname': \"mydb\",\n",
    "    'user': \"myn\",\n",
    "    'password': r\"2)2K9zJCKZv7pLUd\",\n",
    "    'port': \"5432\",\n",
    "    'host': \"terraform-20221222010822007100000002.c2x7llrlmsr3.us-east-2.rds.amazonaws.com\"\n",
    "}"
   ]
  },
  {
   "cell_type": "code",
   "execution_count": 18,
   "metadata": {},
   "outputs": [],
   "source": [
    "bucket_name = \"sto01.dev.us-east-2.aws.shouldishovel.com\"\n",
    "s3 = boto3.client('s3')\n",
    "s3.download_file(bucket_name, \"temp.csv\", 'temp.csv')"
   ]
  },
  {
   "cell_type": "code",
   "execution_count": 19,
   "metadata": {},
   "outputs": [],
   "source": [
    "with open(\"./temp.csv\", \"rt\") as f:\n",
    "    csv_buffer = io.StringIO(f.read())"
   ]
  },
  {
   "cell_type": "code",
   "execution_count": 20,
   "metadata": {},
   "outputs": [],
   "source": [
    "def execute_copy_statement_using_file(\n",
    "    conn_details: dict[str, str],\n",
    "    sql_statement: Query,\n",
    "    csv_file: io.StringIO,\n",
    "    params: Optional[Params] = None,\n",
    ") -> None:\n",
    "    \"\"\"Execute sql copy statement against the conn_details using the DataFrame provided\"\"\"\n",
    "    with psycopg.connect(**conn_details, autocommit=True) as conn:\n",
    "        with conn.cursor() as curr:\n",
    "            with curr.copy(sql_statement, params) as copy:\n",
    "                csv_file.seek(0)\n",
    "                copy.write(csv_file.read())\n",
    "            print(f\"Rows impacted: {curr.rowcount}\")\n",
    "\n",
    "copy_statement = sql.SQL(\"\"\"\n",
    "    COPY {table} FROM stdin (format csv, delimiter ' ', header true)\n",
    "\"\"\").format(\n",
    "    table=sql.Identifier(\"temp\")\n",
    ")"
   ]
  },
  {
   "cell_type": "code",
   "execution_count": 21,
   "metadata": {},
   "outputs": [
    {
     "name": "stdout",
     "output_type": "stream",
     "text": [
      "Rows impacted: 3377217\n"
     ]
    }
   ],
   "source": [
    "execute_copy_statement_using_file(pg_connection_dict, copy_statement, csv_buffer)"
   ]
  }
 ],
 "metadata": {
  "kernelspec": {
   "display_name": ".venv",
   "language": "python",
   "name": "python3"
  },
  "language_info": {
   "codemirror_mode": {
    "name": "ipython",
    "version": 3
   },
   "file_extension": ".py",
   "mimetype": "text/x-python",
   "name": "python",
   "nbconvert_exporter": "python",
   "pygments_lexer": "ipython3",
   "version": "3.10.6"
  },
  "orig_nbformat": 4,
  "vscode": {
   "interpreter": {
    "hash": "f40483e87a18cc8f8e88bd5a8d04335d97209f4dfc5c79189588e91c12893167"
   }
  }
 },
 "nbformat": 4,
 "nbformat_minor": 2
}
