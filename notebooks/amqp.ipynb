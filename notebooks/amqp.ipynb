{
 "cells": [
  {
   "attachments": {},
   "cell_type": "markdown",
   "metadata": {},
   "source": [
    "https://eccc-msc.github.io/open-data/msc-datamart/amqp_en/  \n",
    "https://metpx.github.io/sarracenia/Tutorials/Install.html\n",
    "\n",
    "https://metpx.github.io/sarracenia/How2Guides/subscriber.html"
   ]
  },
  {
   "cell_type": "code",
   "execution_count": null,
   "metadata": {},
   "outputs": [],
   "source": []
  }
 ],
 "metadata": {
  "kernelspec": {
   "display_name": ".venv",
   "language": "python",
   "name": "python3"
  },
  "language_info": {
   "name": "python",
   "version": "3.10.6 (main, Aug 10 2022, 11:40:04) [GCC 11.3.0]"
  },
  "orig_nbformat": 4,
  "vscode": {
   "interpreter": {
    "hash": "f40483e87a18cc8f8e88bd5a8d04335d97209f4dfc5c79189588e91c12893167"
   }
  }
 },
 "nbformat": 4,
 "nbformat_minor": 2
}
